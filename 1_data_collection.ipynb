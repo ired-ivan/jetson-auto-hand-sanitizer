{
 "cells": [
  {
   "cell_type": "markdown",
   "metadata": {},
   "source": [
    "<a href=\"https://www.ired.info/\"> <img src=\"file/ired_logo.png\" alt=\"ired\" style=\"width: 150px;\"/> </a>"
   ]
  },
  {
   "cell_type": "markdown",
   "metadata": {},
   "source": [
    "# Object Classification - Data Collection 物件分類 - 收集數據"
   ]
  },
  {
   "cell_type": "markdown",
   "metadata": {},
   "source": [
    "### Display PI camera 顯示鏡頭\n",
    "\n",
    "First, initialize and display the PI camera.\n",
    "\n",
    "The neural network takes a 224x224 pixel image as input, which is same for Teachable Machine\n",
    "<br>The camera is set to 224x224 to reduce the collected image size and fit into neural work."
   ]
  },
  {
   "cell_type": "code",
   "execution_count": null,
   "metadata": {
    "scrolled": true
   },
   "outputs": [],
   "source": [
    "import traitlets\n",
    "import ipywidgets.widgets as widgets\n",
    "from IPython.display import display\n",
    "from jetbot import Camera, bgr8_to_jpeg\n",
    "\n",
    "camera = Camera.instance(width=224, height=224)\n",
    "\n",
    "image = widgets.Image(format='jpeg', width=224, height=224)  # this width and height doesn't necessarily have to match the camera\n",
    "\n",
    "camera_link = traitlets.dlink((camera, 'value'), (image, 'value'), transform=bgr8_to_jpeg)\n",
    "\n",
    "display(image)"
   ]
  },
  {
   "cell_type": "markdown",
   "metadata": {},
   "source": [
    "### Create Interactive Button for Data Collection 創健收集數據按鈕"
   ]
  },
  {
   "cell_type": "markdown",
   "metadata": {},
   "source": [
    "New folders are created to store collected data. \n",
    "\n",
    "A folder ``dataset``  will contain two sub-folders ``press`` 按下 and ``stop`` 停止, \n",
    "where each folder consider as a class in classification"
   ]
  },
  {
   "cell_type": "code",
   "execution_count": null,
   "metadata": {},
   "outputs": [],
   "source": [
    "import os\n",
    "\n",
    "press_dir = 'dataset/press'\n",
    "stop_dir = 'dataset/stop'\n",
    "\n",
    "try:\n",
    "    os.makedirs(press_dir)\n",
    "    os.makedirs(stop_dir)\n",
    "except FileExistsError:\n",
    "    print('Directories not created becasue they already exist')"
   ]
  },
  {
   "cell_type": "markdown",
   "metadata": {},
   "source": [
    "If you press the refresh button on the left, you should now see new dataset folder created, with press and stop folder inside dataset folder.\n",
    "\n",
    "To capture image, you will create 2 button for each class.\n",
    "<br>A text box will also know how many images you have already captured."
   ]
  },
  {
   "cell_type": "code",
   "execution_count": null,
   "metadata": {},
   "outputs": [],
   "source": [
    "button_layout = widgets.Layout(width='128px', height='64px')\n",
    "stop_button = widgets.Button(description='add stop', button_style='danger', layout=button_layout)\n",
    "press_button = widgets.Button(description='add press', button_style='success', layout=button_layout)\n",
    "stop_count = widgets.IntText(layout=button_layout, value=len(os.listdir(stop_dir)))\n",
    "press_count = widgets.IntText(layout=button_layout, value=len(os.listdir(press_dir)))\n",
    "\n",
    "display(widgets.HBox([stop_count, stop_button]))\n",
    "display(widgets.HBox([press_count, press_button]))"
   ]
  },
  {
   "cell_type": "markdown",
   "metadata": {},
   "source": [
    "The buttons display cannot add any image yet.\n",
    "<br> You have to attach functions to save images for each class to the buttons' ``on_click`` event.\n",
    "\n",
    "To make sure image file names are not repeated , the ``uuid`` package in python is used. \n",
    "<br> It is a unique identifer generated from current time and machine address."
   ]
  },
  {
   "cell_type": "code",
   "execution_count": null,
   "metadata": {},
   "outputs": [],
   "source": [
    "from uuid import uuid1\n",
    "\n",
    "def save_snapshot(directory):\n",
    "    image_path = os.path.join(directory, str(uuid1()) + '.jpg')\n",
    "    with open(image_path, 'wb') as f:\n",
    "        f.write(image.value)\n",
    "\n",
    "def save_stop():\n",
    "    global stop_dir, stop_count\n",
    "    save_snapshot(stop_dir)\n",
    "    stop_count.value = len(os.listdir(stop_dir))\n",
    "    \n",
    "def save_press():\n",
    "    global press_dir, press_count\n",
    "    save_snapshot(press_dir)\n",
    "    press_count.value = len(os.listdir(press_dir))\n",
    "    \n",
    "stop_button.on_click(lambda x: save_stop())\n",
    "press_button.on_click(lambda x: save_press())"
   ]
  },
  {
   "cell_type": "markdown",
   "metadata": {},
   "source": [
    "Now the buttons above should work and save images to the ``stop`` and ``press`` directories.  You can view the images by clicking them\n",
    "\n",
    "Now go ahead and collect some data (**stop: 閒置狀態, press: 按下狀態**)\n",
    "\n",
    "1. Place the camera in a scenario where hand sanitizer is pressed and click on button ``add press``\n",
    "2. Place the camera in a scenario where hand sanitizer is stopped and click on button ``add stop``\n",
    "mw\n",
    "> Useful TIPS: Next code will display interactive button and camera together to make data collection easier\n",
    "\n",
    "Here are some general tips for labeling data, to improve training model.\n",
    "<br> 收集數據的小技巧:\n",
    "1. Different orientations 不同方位\n",
    "2. Different lighting 不同燈光\n",
    "3. Varied background 不同背景\n",
    "\n",
    "The more images captured with different scenarios, the machine is accurate in most position in real world.\n",
    "<br> It is important to get varied data but not a lot of similar data, you will  need at least 50 images of each class."
   ]
  },
  {
   "cell_type": "markdown",
   "metadata": {},
   "source": [
    "### Put Interactive button and camera together 將收集數據按鈕與鏡頭並排"
   ]
  },
  {
   "cell_type": "code",
   "execution_count": null,
   "metadata": {
    "scrolled": true
   },
   "outputs": [],
   "source": [
    "display(image)\n",
    "display(widgets.HBox([stop_count, stop_button, press_count, press_button]))"
   ]
  },
  {
   "cell_type": "markdown",
   "metadata": {},
   "source": [
    "After you collect at least **50 images of each class (閒置及按下各50張)**, stop the camera and go to the next Jupyter Notebook to start training a model on Jetson Nano."
   ]
  },
  {
   "cell_type": "markdown",
   "metadata": {},
   "source": [
    "### Stop Camera 關閉鏡頭\n",
    "Properly stop the camera."
   ]
  },
  {
   "cell_type": "code",
   "execution_count": null,
   "metadata": {},
   "outputs": [],
   "source": [
    "camera.stop()"
   ]
  },
  {
   "cell_type": "markdown",
   "metadata": {},
   "source": [
    "---End---"
   ]
  }
 ],
 "metadata": {
  "kernelspec": {
   "display_name": "Python 3",
   "language": "python",
   "name": "python3"
  },
  "language_info": {
   "codemirror_mode": {
    "name": "ipython",
    "version": 3
   },
   "file_extension": ".py",
   "mimetype": "text/x-python",
   "name": "python",
   "nbconvert_exporter": "python",
   "pygments_lexer": "ipython3",
   "version": "3.6.9"
  }
 },
 "nbformat": 4,
 "nbformat_minor": 4
}
