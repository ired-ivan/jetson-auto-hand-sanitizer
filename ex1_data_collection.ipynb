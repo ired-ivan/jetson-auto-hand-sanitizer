{
 "cells": [
  {
   "cell_type": "markdown",
   "metadata": {},
   "source": [
    "<a href=\"https://www.ired.info/\"> <img src=\"file/ired_logo.png\" alt=\"ired\" style=\"width: 150px;\"/> </a>"
   ]
  },
  {
   "cell_type": "markdown",
   "metadata": {},
   "source": [
    "# Object Classification - Data Collection"
   ]
  },
  {
   "cell_type": "markdown",
   "metadata": {},
   "source": [
    "### Collect Data for two classes, representing when to stop and press the auto hand sanitizer."
   ]
  },
  {
   "cell_type": "code",
   "execution_count": null,
   "metadata": {
    "scrolled": true
   },
   "outputs": [],
   "source": [
    "import traitlets\n",
    "import ipywidgets.widgets as widgets\n",
    "from IPython.display import display\n",
    "from jetbot import Camera, bgr8_to_jpeg\n",
    "\n",
    "camera = Camera.instance(width=224, height=224)\n",
    "\n",
    "image = widgets.Image(format='jpeg', width=224, height=224)  # this width and height doesn't necessarily have to match the camera\n",
    "\n",
    "camera_link = traitlets.dlink((camera, 'value'), (image, 'value'), transform=bgr8_to_jpeg)\n",
    "\n",
    "##\n",
    "\n",
    "import os\n",
    "\n",
    "press_dir = 'dataset/press'\n",
    "stop_dir = 'dataset/stop'\n",
    "\n",
    "try:\n",
    "    os.makedirs(press_dir)\n",
    "    os.makedirs(stop_dir)\n",
    "except FileExistsError:\n",
    "   print('Directories not created becasue they already exist')\n",
    "    \n",
    "##\n",
    "\n",
    "button_layout = widgets.Layout(width='128px', height='64px')\n",
    "stop_button = widgets.Button(description='add stop', button_style='danger', layout=button_layout)\n",
    "press_button = widgets.Button(description='add press', button_style='success', layout=button_layout)\n",
    "stop_count = widgets.IntText(layout=button_layout, value=len(os.listdir(stop_dir)))\n",
    "press_count = widgets.IntText(layout=button_layout, value=len(os.listdir(press_dir)))\n",
    "\n",
    "##\n",
    "\n",
    "from uuid import uuid1\n",
    "\n",
    "def save_snapshot(directory):\n",
    "    image_path = os.path.join(directory, str(uuid1()) + '.jpg')\n",
    "    with open(image_path, 'wb') as f:\n",
    "        f.write(image.value)\n",
    "\n",
    "def save_stop():\n",
    "    global stop_dir, stop_count\n",
    "    save_snapshot(stop_dir)\n",
    "    stop_count.value = len(os.listdir(stop_dir))\n",
    "    \n",
    "def save_press():\n",
    "    global press_dir, press_count\n",
    "    save_snapshot(press_dir)\n",
    "    press_count.value = len(os.listdir(press_dir))\n",
    "    \n",
    "stop_button.on_click(lambda x: save_stop())\n",
    "press_button.on_click(lambda x: save_press())\n",
    "\n",
    "##\n",
    "\n",
    "display(image)\n",
    "display(widgets.HBox([stop_count, stop_button, press_count, press_button]))"
   ]
  },
  {
   "cell_type": "markdown",
   "metadata": {},
   "source": [
    "After you collect at least **50 images of each class**, \n",
    "<br> stop the camera and start training a model"
   ]
  },
  {
   "cell_type": "markdown",
   "metadata": {},
   "source": [
    "### Stop Camera\n",
    "Properly stop the camera."
   ]
  },
  {
   "cell_type": "code",
   "execution_count": null,
   "metadata": {},
   "outputs": [],
   "source": [
    "camera.stop()"
   ]
  },
  {
   "cell_type": "markdown",
   "metadata": {},
   "source": [
    "---End---"
   ]
  }
 ],
 "metadata": {
  "kernelspec": {
   "display_name": "Python 3",
   "language": "python",
   "name": "python3"
  },
  "language_info": {
   "codemirror_mode": {
    "name": "ipython",
    "version": 3
   },
   "file_extension": ".py",
   "mimetype": "text/x-python",
   "name": "python",
   "nbconvert_exporter": "python",
   "pygments_lexer": "ipython3",
   "version": "3.6.9"
  }
 },
 "nbformat": 4,
 "nbformat_minor": 4
}
